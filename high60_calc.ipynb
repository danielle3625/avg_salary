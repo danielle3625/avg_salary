{
 "cells": [
  {
   "cell_type": "code",
   "execution_count": 2,
   "metadata": {},
   "outputs": [],
   "source": [
    "import numpy as np\n",
    "import pandas as pd"
   ]
  },
  {
   "cell_type": "code",
   "execution_count": 3,
   "metadata": {},
   "outputs": [],
   "source": [
    "pd.set_option('display.max_rows', None)"
   ]
  },
  {
   "cell_type": "code",
   "execution_count": 4,
   "metadata": {},
   "outputs": [],
   "source": [
    "df = pd.read_csv('export_format4.csv')"
   ]
  },
  {
   "cell_type": "code",
   "execution_count": 5,
   "metadata": {},
   "outputs": [
    {
     "data": {
      "text/html": [
       "<div>\n",
       "<style scoped>\n",
       "    .dataframe tbody tr th:only-of-type {\n",
       "        vertical-align: middle;\n",
       "    }\n",
       "\n",
       "    .dataframe tbody tr th {\n",
       "        vertical-align: top;\n",
       "    }\n",
       "\n",
       "    .dataframe thead th {\n",
       "        text-align: right;\n",
       "    }\n",
       "</style>\n",
       "<table border=\"1\" class=\"dataframe\">\n",
       "  <thead>\n",
       "    <tr style=\"text-align: right;\">\n",
       "      <th></th>\n",
       "      <th>employer</th>\n",
       "      <th>period_begin</th>\n",
       "      <th>period_end</th>\n",
       "      <th>post_date</th>\n",
       "      <th>salary</th>\n",
       "      <th>sheltered</th>\n",
       "      <th>unsheltered</th>\n",
       "      <th>total</th>\n",
       "    </tr>\n",
       "  </thead>\n",
       "  <tbody>\n",
       "    <tr>\n",
       "      <th>0</th>\n",
       "      <td>Orleans</td>\n",
       "      <td>1/1/2002</td>\n",
       "      <td>1/31/2002</td>\n",
       "      <td>1/29/2002</td>\n",
       "      <td>262.62</td>\n",
       "      <td>0.0</td>\n",
       "      <td>18.38</td>\n",
       "      <td>18.38</td>\n",
       "    </tr>\n",
       "    <tr>\n",
       "      <th>1</th>\n",
       "      <td>Orleans</td>\n",
       "      <td>2/1/2002</td>\n",
       "      <td>2/28/2002</td>\n",
       "      <td>2/22/2002</td>\n",
       "      <td>525.24</td>\n",
       "      <td>0.0</td>\n",
       "      <td>36.76</td>\n",
       "      <td>36.76</td>\n",
       "    </tr>\n",
       "    <tr>\n",
       "      <th>2</th>\n",
       "      <td>Orleans</td>\n",
       "      <td>3/1/2002</td>\n",
       "      <td>3/31/2002</td>\n",
       "      <td>3/27/2002</td>\n",
       "      <td>525.24</td>\n",
       "      <td>0.0</td>\n",
       "      <td>36.76</td>\n",
       "      <td>36.76</td>\n",
       "    </tr>\n",
       "    <tr>\n",
       "      <th>3</th>\n",
       "      <td>Orleans</td>\n",
       "      <td>4/1/2002</td>\n",
       "      <td>4/30/2002</td>\n",
       "      <td>4/26/2002</td>\n",
       "      <td>525.24</td>\n",
       "      <td>0.0</td>\n",
       "      <td>36.76</td>\n",
       "      <td>36.76</td>\n",
       "    </tr>\n",
       "    <tr>\n",
       "      <th>4</th>\n",
       "      <td>Orleans</td>\n",
       "      <td>5/1/2002</td>\n",
       "      <td>5/31/2002</td>\n",
       "      <td>6/11/2002</td>\n",
       "      <td>1,021.93</td>\n",
       "      <td>0.0</td>\n",
       "      <td>71.53</td>\n",
       "      <td>71.53</td>\n",
       "    </tr>\n",
       "  </tbody>\n",
       "</table>\n",
       "</div>"
      ],
      "text/plain": [
       "  employer period_begin period_end  post_date    salary  sheltered  \\\n",
       "0  Orleans     1/1/2002  1/31/2002  1/29/2002    262.62        0.0   \n",
       "1  Orleans     2/1/2002  2/28/2002  2/22/2002    525.24        0.0   \n",
       "2  Orleans     3/1/2002  3/31/2002  3/27/2002    525.24        0.0   \n",
       "3  Orleans     4/1/2002  4/30/2002  4/26/2002    525.24        0.0   \n",
       "4  Orleans     5/1/2002  5/31/2002  6/11/2002  1,021.93        0.0   \n",
       "\n",
       "   unsheltered  total  \n",
       "0        18.38  18.38  \n",
       "1        36.76  36.76  \n",
       "2        36.76  36.76  \n",
       "3        36.76  36.76  \n",
       "4        71.53  71.53  "
      ]
     },
     "execution_count": 5,
     "metadata": {},
     "output_type": "execute_result"
    }
   ],
   "source": [
    "df.head()"
   ]
  },
  {
   "cell_type": "code",
   "execution_count": 6,
   "metadata": {},
   "outputs": [
    {
     "name": "stdout",
     "output_type": "stream",
     "text": [
      "<class 'pandas.core.frame.DataFrame'>\n",
      "RangeIndex: 582 entries, 0 to 581\n",
      "Data columns (total 8 columns):\n",
      " #   Column        Non-Null Count  Dtype  \n",
      "---  ------        --------------  -----  \n",
      " 0   employer      582 non-null    object \n",
      " 1   period_begin  582 non-null    object \n",
      " 2   period_end    582 non-null    object \n",
      " 3   post_date     582 non-null    object \n",
      " 4   salary        582 non-null    object \n",
      " 5   sheltered     582 non-null    float64\n",
      " 6   unsheltered   582 non-null    float64\n",
      " 7   total         582 non-null    float64\n",
      "dtypes: float64(3), object(5)\n",
      "memory usage: 36.5+ KB\n"
     ]
    }
   ],
   "source": [
    "df.info()"
   ]
  },
  {
   "cell_type": "code",
   "execution_count": 8,
   "metadata": {},
   "outputs": [
    {
     "ename": "ValueError",
     "evalue": "Unable to parse string \"1,021.93\" at position 4",
     "output_type": "error",
     "traceback": [
      "\u001b[1;31m---------------------------------------------------------------------------\u001b[0m",
      "\u001b[1;31mValueError\u001b[0m                                Traceback (most recent call last)",
      "File \u001b[1;32mc:\\Users\\User\\AppData\\Local\\Programs\\Python\\Python310\\lib\\site-packages\\pandas\\_libs\\lib.pyx:2364\u001b[0m, in \u001b[0;36mpandas._libs.lib.maybe_convert_numeric\u001b[1;34m()\u001b[0m\n",
      "\u001b[1;31mValueError\u001b[0m: Unable to parse string \"1,021.93\"",
      "\nDuring handling of the above exception, another exception occurred:\n",
      "\u001b[1;31mValueError\u001b[0m                                Traceback (most recent call last)",
      "Cell \u001b[1;32mIn [8], line 1\u001b[0m\n\u001b[1;32m----> 1\u001b[0m df[\u001b[38;5;124m'\u001b[39m\u001b[38;5;124msalary\u001b[39m\u001b[38;5;124m'\u001b[39m] \u001b[38;5;241m=\u001b[39m pd\u001b[38;5;241m.\u001b[39mto_numeric(df[\u001b[38;5;124m'\u001b[39m\u001b[38;5;124msalary\u001b[39m\u001b[38;5;124m'\u001b[39m])\n",
      "File \u001b[1;32mc:\\Users\\User\\AppData\\Local\\Programs\\Python\\Python310\\lib\\site-packages\\pandas\\core\\tools\\numeric.py:185\u001b[0m, in \u001b[0;36mto_numeric\u001b[1;34m(arg, errors, downcast)\u001b[0m\n\u001b[0;32m    183\u001b[0m coerce_numeric \u001b[39m=\u001b[39m errors \u001b[39mnot\u001b[39;00m \u001b[39min\u001b[39;00m (\u001b[39m\"\u001b[39m\u001b[39mignore\u001b[39m\u001b[39m\"\u001b[39m, \u001b[39m\"\u001b[39m\u001b[39mraise\u001b[39m\u001b[39m\"\u001b[39m)\n\u001b[0;32m    184\u001b[0m \u001b[39mtry\u001b[39;00m:\n\u001b[1;32m--> 185\u001b[0m     values, _ \u001b[39m=\u001b[39m lib\u001b[39m.\u001b[39;49mmaybe_convert_numeric(\n\u001b[0;32m    186\u001b[0m         values, \u001b[39mset\u001b[39;49m(), coerce_numeric\u001b[39m=\u001b[39;49mcoerce_numeric\n\u001b[0;32m    187\u001b[0m     )\n\u001b[0;32m    188\u001b[0m \u001b[39mexcept\u001b[39;00m (\u001b[39mValueError\u001b[39;00m, \u001b[39mTypeError\u001b[39;00m):\n\u001b[0;32m    189\u001b[0m     \u001b[39mif\u001b[39;00m errors \u001b[39m==\u001b[39m \u001b[39m\"\u001b[39m\u001b[39mraise\u001b[39m\u001b[39m\"\u001b[39m:\n",
      "File \u001b[1;32mc:\\Users\\User\\AppData\\Local\\Programs\\Python\\Python310\\lib\\site-packages\\pandas\\_libs\\lib.pyx:2406\u001b[0m, in \u001b[0;36mpandas._libs.lib.maybe_convert_numeric\u001b[1;34m()\u001b[0m\n",
      "\u001b[1;31mValueError\u001b[0m: Unable to parse string \"1,021.93\" at position 4"
     ]
    }
   ],
   "source": [
    "df['salary'] = pd.to_numeric(df['salary'])"
   ]
  },
  {
   "cell_type": "code",
   "execution_count": 9,
   "metadata": {},
   "outputs": [
    {
     "name": "stderr",
     "output_type": "stream",
     "text": [
      "C:\\Users\\User\\AppData\\Local\\Temp\\ipykernel_9404\\4198786321.py:1: FutureWarning: The default value of numeric_only in DataFrameGroupBy.sum is deprecated. In a future version, numeric_only will default to False. Either specify numeric_only or select only columns which should be valid for the function.\n",
      "  df = df.groupby('period_end').sum()\n"
     ]
    }
   ],
   "source": [
    "df = df.groupby('period_end').sum()\n",
    "    "
   ]
  },
  {
   "cell_type": "code",
   "execution_count": null,
   "metadata": {},
   "outputs": [],
   "source": []
  },
  {
   "cell_type": "code",
   "execution_count": 10,
   "metadata": {},
   "outputs": [
    {
     "data": {
      "text/html": [
       "<div>\n",
       "<style scoped>\n",
       "    .dataframe tbody tr th:only-of-type {\n",
       "        vertical-align: middle;\n",
       "    }\n",
       "\n",
       "    .dataframe tbody tr th {\n",
       "        vertical-align: top;\n",
       "    }\n",
       "\n",
       "    .dataframe thead th {\n",
       "        text-align: right;\n",
       "    }\n",
       "</style>\n",
       "<table border=\"1\" class=\"dataframe\">\n",
       "  <thead>\n",
       "    <tr style=\"text-align: right;\">\n",
       "      <th></th>\n",
       "      <th>sheltered</th>\n",
       "      <th>unsheltered</th>\n",
       "      <th>total</th>\n",
       "    </tr>\n",
       "    <tr>\n",
       "      <th>period_end</th>\n",
       "      <th></th>\n",
       "      <th></th>\n",
       "      <th></th>\n",
       "    </tr>\n",
       "  </thead>\n",
       "  <tbody>\n",
       "    <tr>\n",
       "      <th>1/31/2002</th>\n",
       "      <td>0.00</td>\n",
       "      <td>36.75</td>\n",
       "      <td>36.75</td>\n",
       "    </tr>\n",
       "    <tr>\n",
       "      <th>1/31/2003</th>\n",
       "      <td>0.00</td>\n",
       "      <td>89.20</td>\n",
       "      <td>89.20</td>\n",
       "    </tr>\n",
       "    <tr>\n",
       "      <th>1/31/2004</th>\n",
       "      <td>0.00</td>\n",
       "      <td>102.12</td>\n",
       "      <td>102.12</td>\n",
       "    </tr>\n",
       "    <tr>\n",
       "      <th>1/31/2005</th>\n",
       "      <td>113.80</td>\n",
       "      <td>0.00</td>\n",
       "      <td>113.80</td>\n",
       "    </tr>\n",
       "    <tr>\n",
       "      <th>1/31/2006</th>\n",
       "      <td>106.44</td>\n",
       "      <td>0.00</td>\n",
       "      <td>106.44</td>\n",
       "    </tr>\n",
       "  </tbody>\n",
       "</table>\n",
       "</div>"
      ],
      "text/plain": [
       "            sheltered  unsheltered   total\n",
       "period_end                                \n",
       "1/31/2002        0.00        36.75   36.75\n",
       "1/31/2003        0.00        89.20   89.20\n",
       "1/31/2004        0.00       102.12  102.12\n",
       "1/31/2005      113.80         0.00  113.80\n",
       "1/31/2006      106.44         0.00  106.44"
      ]
     },
     "execution_count": 10,
     "metadata": {},
     "output_type": "execute_result"
    }
   ],
   "source": [
    "df.head()"
   ]
  },
  {
   "cell_type": "code",
   "execution_count": 16,
   "metadata": {},
   "outputs": [],
   "source": [
    "df = df.sort_values(by='period_end', key=pd.to_datetime)"
   ]
  },
  {
   "cell_type": "code",
   "execution_count": null,
   "metadata": {},
   "outputs": [],
   "source": [
    "help(df.sort_values)"
   ]
  },
  {
   "cell_type": "code",
   "execution_count": 21,
   "metadata": {},
   "outputs": [
    {
     "name": "stdout",
     "output_type": "stream",
     "text": [
      "<class 'pandas.core.frame.DataFrame'>\n",
      "Index: 247 entries, 1/31/2002 to 4/30/2022\n",
      "Data columns (total 3 columns):\n",
      " #   Column       Non-Null Count  Dtype  \n",
      "---  ------       --------------  -----  \n",
      " 0   sheltered    247 non-null    float64\n",
      " 1   unsheltered  247 non-null    float64\n",
      " 2   total        247 non-null    float64\n",
      "dtypes: float64(3)\n",
      "memory usage: 7.7+ KB\n"
     ]
    }
   ],
   "source": [
    "df.info()"
   ]
  },
  {
   "cell_type": "code",
   "execution_count": 34,
   "metadata": {},
   "outputs": [],
   "source": [
    "df['rolling_60'] = df['salary'].rolling(60).mean()"
   ]
  },
  {
   "cell_type": "code",
   "execution_count": 35,
   "metadata": {},
   "outputs": [
    {
     "data": {
      "text/html": [
       "<div>\n",
       "<style scoped>\n",
       "    .dataframe tbody tr th:only-of-type {\n",
       "        vertical-align: middle;\n",
       "    }\n",
       "\n",
       "    .dataframe tbody tr th {\n",
       "        vertical-align: top;\n",
       "    }\n",
       "\n",
       "    .dataframe thead th {\n",
       "        text-align: right;\n",
       "    }\n",
       "</style>\n",
       "<table border=\"1\" class=\"dataframe\">\n",
       "  <thead>\n",
       "    <tr style=\"text-align: right;\">\n",
       "      <th></th>\n",
       "      <th>salary</th>\n",
       "      <th>sheltered</th>\n",
       "      <th>unsheltered</th>\n",
       "      <th>total</th>\n",
       "      <th>rolling_60</th>\n",
       "    </tr>\n",
       "    <tr>\n",
       "      <th>period_end</th>\n",
       "      <th></th>\n",
       "      <th></th>\n",
       "      <th></th>\n",
       "      <th></th>\n",
       "      <th></th>\n",
       "    </tr>\n",
       "  </thead>\n",
       "  <tbody>\n",
       "    <tr>\n",
       "      <th>9/30/2017</th>\n",
       "      <td>7623.59</td>\n",
       "      <td>533.66</td>\n",
       "      <td>0.0</td>\n",
       "      <td>533.66</td>\n",
       "      <td>3360.969000</td>\n",
       "    </tr>\n",
       "    <tr>\n",
       "      <th>9/30/2018</th>\n",
       "      <td>6231.18</td>\n",
       "      <td>436.18</td>\n",
       "      <td>0.0</td>\n",
       "      <td>436.18</td>\n",
       "      <td>3339.196500</td>\n",
       "    </tr>\n",
       "    <tr>\n",
       "      <th>9/30/2019</th>\n",
       "      <td>6386.66</td>\n",
       "      <td>447.06</td>\n",
       "      <td>0.0</td>\n",
       "      <td>447.06</td>\n",
       "      <td>3330.943833</td>\n",
       "    </tr>\n",
       "    <tr>\n",
       "      <th>9/30/2020</th>\n",
       "      <td>6711.89</td>\n",
       "      <td>469.84</td>\n",
       "      <td>0.0</td>\n",
       "      <td>469.84</td>\n",
       "      <td>3294.497000</td>\n",
       "    </tr>\n",
       "    <tr>\n",
       "      <th>9/30/2021</th>\n",
       "      <td>7056.93</td>\n",
       "      <td>493.98</td>\n",
       "      <td>0.0</td>\n",
       "      <td>493.98</td>\n",
       "      <td>3394.736333</td>\n",
       "    </tr>\n",
       "  </tbody>\n",
       "</table>\n",
       "</div>"
      ],
      "text/plain": [
       "             salary  sheltered  unsheltered   total   rolling_60\n",
       "period_end                                                      \n",
       "9/30/2017   7623.59     533.66          0.0  533.66  3360.969000\n",
       "9/30/2018   6231.18     436.18          0.0  436.18  3339.196500\n",
       "9/30/2019   6386.66     447.06          0.0  447.06  3330.943833\n",
       "9/30/2020   6711.89     469.84          0.0  469.84  3294.497000\n",
       "9/30/2021   7056.93     493.98          0.0  493.98  3394.736333"
      ]
     },
     "execution_count": 35,
     "metadata": {},
     "output_type": "execute_result"
    }
   ],
   "source": [
    "df.tail()"
   ]
  },
  {
   "cell_type": "code",
   "execution_count": 36,
   "metadata": {},
   "outputs": [
    {
     "name": "stdout",
     "output_type": "stream",
     "text": [
      "<class 'pandas.core.series.Series'>\n",
      "Index: 179 entries, 1/31/1989 to 9/30/2021\n",
      "Series name: salary\n",
      "Non-Null Count  Dtype  \n",
      "--------------  -----  \n",
      "179 non-null    float64\n",
      "dtypes: float64(1)\n",
      "memory usage: 2.8+ KB\n"
     ]
    }
   ],
   "source": [
    "df['salary'].info()"
   ]
  },
  {
   "cell_type": "code",
   "execution_count": 113,
   "metadata": {},
   "outputs": [
    {
     "ename": "SyntaxError",
     "evalue": "invalid syntax (2300947213.py, line 1)",
     "output_type": "error",
     "traceback": [
      "\u001b[1;36m  Cell \u001b[1;32mIn [113], line 1\u001b[1;36m\u001b[0m\n\u001b[1;33m    def salary_cap('rolling_60')\u001b[0m\n\u001b[1;37m                   ^\u001b[0m\n\u001b[1;31mSyntaxError\u001b[0m\u001b[1;31m:\u001b[0m invalid syntax\n"
     ]
    }
   ],
   "source": [
    "def salary_cap(rolling_60):\n",
    "    for i in len(rolling_60):\n",
    "        for num[i] in rolling_60:\n",
    "            # well............actually this isn't going to work at all BECAUSE\n",
    "            # i need this to happen within the .rolling() function.\n",
    "            # if called on the rolling_60 column, then i'm just implementing the cap on average to average, not within the year to year"
   ]
  },
  {
   "cell_type": "code",
   "execution_count": 46,
   "metadata": {},
   "outputs": [],
   "source": [
    "def int_convert(notnum):\n",
    "    convert = []\n",
    "    for num in notnum:\n",
    "        convert += int(num)\n",
    "    return convert"
   ]
  },
  {
   "cell_type": "code",
   "execution_count": null,
   "metadata": {},
   "outputs": [],
   "source": []
  }
 ],
 "metadata": {
  "kernelspec": {
   "display_name": "Python 3.10.6 64-bit",
   "language": "python",
   "name": "python3"
  },
  "language_info": {
   "codemirror_mode": {
    "name": "ipython",
    "version": 3
   },
   "file_extension": ".py",
   "mimetype": "text/x-python",
   "name": "python",
   "nbconvert_exporter": "python",
   "pygments_lexer": "ipython3",
   "version": "3.10.6"
  },
  "orig_nbformat": 4,
  "vscode": {
   "interpreter": {
    "hash": "afb734500600fd355917ca529030176ea0ca205570884b88f2f6f7d791fd3fbe"
   }
  }
 },
 "nbformat": 4,
 "nbformat_minor": 2
}
