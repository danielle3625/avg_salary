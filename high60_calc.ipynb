{
 "cells": [
  {
   "cell_type": "code",
   "execution_count": 24,
   "metadata": {},
   "outputs": [],
   "source": [
    "import numpy as np\n",
    "import pandas as pd"
   ]
  },
  {
   "cell_type": "code",
   "execution_count": 25,
   "metadata": {},
   "outputs": [],
   "source": [
    "# Use this because I couldn't see enough output\n",
    "pd.set_option('display.max_rows', None)"
   ]
  },
  {
   "cell_type": "code",
   "execution_count": 26,
   "metadata": {},
   "outputs": [],
   "source": [
    "df = pd.read_csv('export_format.csv')"
   ]
  },
  {
   "cell_type": "code",
   "execution_count": 27,
   "metadata": {},
   "outputs": [
    {
     "data": {
      "text/html": [
       "<div>\n",
       "<style scoped>\n",
       "    .dataframe tbody tr th:only-of-type {\n",
       "        vertical-align: middle;\n",
       "    }\n",
       "\n",
       "    .dataframe tbody tr th {\n",
       "        vertical-align: top;\n",
       "    }\n",
       "\n",
       "    .dataframe thead th {\n",
       "        text-align: right;\n",
       "    }\n",
       "</style>\n",
       "<table border=\"1\" class=\"dataframe\">\n",
       "  <thead>\n",
       "    <tr style=\"text-align: right;\">\n",
       "      <th></th>\n",
       "      <th>employer</th>\n",
       "      <th>period_begin</th>\n",
       "      <th>period_end</th>\n",
       "      <th>post_date</th>\n",
       "      <th>salary</th>\n",
       "      <th>sheltered</th>\n",
       "      <th>unsheltered</th>\n",
       "      <th>total</th>\n",
       "    </tr>\n",
       "  </thead>\n",
       "  <tbody>\n",
       "    <tr>\n",
       "      <th>0</th>\n",
       "      <td>East Baton Rouge</td>\n",
       "      <td>8/1/1988</td>\n",
       "      <td>8/31/1988</td>\n",
       "      <td>6/30/1989</td>\n",
       "      <td>223.25</td>\n",
       "      <td>0.0</td>\n",
       "      <td>20.09</td>\n",
       "      <td>20.09</td>\n",
       "    </tr>\n",
       "    <tr>\n",
       "      <th>1</th>\n",
       "      <td>East Baton Rouge</td>\n",
       "      <td>9/1/1988</td>\n",
       "      <td>9/30/1988</td>\n",
       "      <td>6/30/1989</td>\n",
       "      <td>532.65</td>\n",
       "      <td>0.0</td>\n",
       "      <td>47.94</td>\n",
       "      <td>47.94</td>\n",
       "    </tr>\n",
       "    <tr>\n",
       "      <th>2</th>\n",
       "      <td>East Baton Rouge</td>\n",
       "      <td>10/1/1988</td>\n",
       "      <td>10/31/1988</td>\n",
       "      <td>6/30/1989</td>\n",
       "      <td>407.50</td>\n",
       "      <td>0.0</td>\n",
       "      <td>36.68</td>\n",
       "      <td>36.68</td>\n",
       "    </tr>\n",
       "    <tr>\n",
       "      <th>3</th>\n",
       "      <td>East Baton Rouge</td>\n",
       "      <td>11/1/1988</td>\n",
       "      <td>11/30/1988</td>\n",
       "      <td>6/30/1989</td>\n",
       "      <td>407.50</td>\n",
       "      <td>0.0</td>\n",
       "      <td>36.68</td>\n",
       "      <td>36.68</td>\n",
       "    </tr>\n",
       "    <tr>\n",
       "      <th>4</th>\n",
       "      <td>East Baton Rouge</td>\n",
       "      <td>12/1/1988</td>\n",
       "      <td>12/31/1988</td>\n",
       "      <td>6/30/1989</td>\n",
       "      <td>407.50</td>\n",
       "      <td>0.0</td>\n",
       "      <td>36.68</td>\n",
       "      <td>36.68</td>\n",
       "    </tr>\n",
       "  </tbody>\n",
       "</table>\n",
       "</div>"
      ],
      "text/plain": [
       "           employer period_begin  period_end  post_date  salary  sheltered  \\\n",
       "0  East Baton Rouge     8/1/1988   8/31/1988  6/30/1989  223.25        0.0   \n",
       "1  East Baton Rouge     9/1/1988   9/30/1988  6/30/1989  532.65        0.0   \n",
       "2  East Baton Rouge    10/1/1988  10/31/1988  6/30/1989  407.50        0.0   \n",
       "3  East Baton Rouge    11/1/1988  11/30/1988  6/30/1989  407.50        0.0   \n",
       "4  East Baton Rouge    12/1/1988  12/31/1988  6/30/1989  407.50        0.0   \n",
       "\n",
       "   unsheltered  total  \n",
       "0        20.09  20.09  \n",
       "1        47.94  47.94  \n",
       "2        36.68  36.68  \n",
       "3        36.68  36.68  \n",
       "4        36.68  36.68  "
      ]
     },
     "execution_count": 27,
     "metadata": {},
     "output_type": "execute_result"
    }
   ],
   "source": [
    "df.head()"
   ]
  },
  {
   "cell_type": "code",
   "execution_count": 28,
   "metadata": {},
   "outputs": [
    {
     "name": "stdout",
     "output_type": "stream",
     "text": [
      "<class 'pandas.core.frame.DataFrame'>\n",
      "RangeIndex: 408 entries, 0 to 407\n",
      "Data columns (total 8 columns):\n",
      " #   Column        Non-Null Count  Dtype  \n",
      "---  ------        --------------  -----  \n",
      " 0   employer      394 non-null    object \n",
      " 1   period_begin  394 non-null    object \n",
      " 2   period_end    394 non-null    object \n",
      " 3   post_date     394 non-null    object \n",
      " 4   salary        394 non-null    float64\n",
      " 5   sheltered     394 non-null    float64\n",
      " 6   unsheltered   394 non-null    float64\n",
      " 7   total         394 non-null    float64\n",
      "dtypes: float64(4), object(4)\n",
      "memory usage: 25.6+ KB\n"
     ]
    }
   ],
   "source": [
    "# Ran into a problem converting salary - reading export_format.csv worked fine, \n",
    "# but reading export_format4.csv did not!\n",
    "# here i notice that salary is an object, so that means string right?\n",
    "# how come the export for salary was float64 for exportformat, but not exportformat4???? weird\n",
    "df.info()"
   ]
  },
  {
   "cell_type": "code",
   "execution_count": 31,
   "metadata": {},
   "outputs": [],
   "source": [
    "# this is executed on export_format4\n",
    "df = df.groupby('period_end').sum()\n",
    "    "
   ]
  },
  {
   "cell_type": "code",
   "execution_count": 32,
   "metadata": {},
   "outputs": [
    {
     "data": {
      "text/html": [
       "<div>\n",
       "<style scoped>\n",
       "    .dataframe tbody tr th:only-of-type {\n",
       "        vertical-align: middle;\n",
       "    }\n",
       "\n",
       "    .dataframe tbody tr th {\n",
       "        vertical-align: top;\n",
       "    }\n",
       "\n",
       "    .dataframe thead th {\n",
       "        text-align: right;\n",
       "    }\n",
       "</style>\n",
       "<table border=\"1\" class=\"dataframe\">\n",
       "  <thead>\n",
       "    <tr style=\"text-align: right;\">\n",
       "      <th></th>\n",
       "      <th>salary</th>\n",
       "      <th>sheltered</th>\n",
       "      <th>unsheltered</th>\n",
       "      <th>total</th>\n",
       "    </tr>\n",
       "    <tr>\n",
       "      <th>period_end</th>\n",
       "      <th></th>\n",
       "      <th></th>\n",
       "      <th></th>\n",
       "      <th></th>\n",
       "    </tr>\n",
       "  </thead>\n",
       "  <tbody>\n",
       "    <tr>\n",
       "      <th>1/31/1989</th>\n",
       "      <td>783.66</td>\n",
       "      <td>0.0</td>\n",
       "      <td>70.54</td>\n",
       "      <td>70.54</td>\n",
       "    </tr>\n",
       "    <tr>\n",
       "      <th>1/31/1990</th>\n",
       "      <td>865.40</td>\n",
       "      <td>0.0</td>\n",
       "      <td>60.57</td>\n",
       "      <td>60.57</td>\n",
       "    </tr>\n",
       "    <tr>\n",
       "      <th>1/31/1991</th>\n",
       "      <td>936.56</td>\n",
       "      <td>0.0</td>\n",
       "      <td>65.56</td>\n",
       "      <td>65.56</td>\n",
       "    </tr>\n",
       "    <tr>\n",
       "      <th>1/31/1992</th>\n",
       "      <td>974.04</td>\n",
       "      <td>0.0</td>\n",
       "      <td>68.18</td>\n",
       "      <td>68.18</td>\n",
       "    </tr>\n",
       "    <tr>\n",
       "      <th>1/31/1993</th>\n",
       "      <td>1013.48</td>\n",
       "      <td>0.0</td>\n",
       "      <td>70.96</td>\n",
       "      <td>70.96</td>\n",
       "    </tr>\n",
       "  </tbody>\n",
       "</table>\n",
       "</div>"
      ],
      "text/plain": [
       "             salary  sheltered  unsheltered  total\n",
       "period_end                                        \n",
       "1/31/1989    783.66        0.0        70.54  70.54\n",
       "1/31/1990    865.40        0.0        60.57  60.57\n",
       "1/31/1991    936.56        0.0        65.56  65.56\n",
       "1/31/1992    974.04        0.0        68.18  68.18\n",
       "1/31/1993   1013.48        0.0        70.96  70.96"
      ]
     },
     "execution_count": 32,
     "metadata": {},
     "output_type": "execute_result"
    }
   ],
   "source": [
    "df.head()"
   ]
  },
  {
   "cell_type": "code",
   "execution_count": 36,
   "metadata": {},
   "outputs": [],
   "source": [
    "# So, at first I ran all these on 'export_format.csv'\n",
    "# this cell was ran on export_format.csv, and it 'worked' (but the output did not match my expected result)\n",
    "# when I applied the above on export_format.csv, i noticed my df did not sort appropriately\n",
    "# before, the df was sorting by months instead of true linear dates\n",
    "df = df.sort_values(by='period_end', key=pd.to_datetime)"
   ]
  },
  {
   "cell_type": "code",
   "execution_count": 37,
   "metadata": {},
   "outputs": [
    {
     "data": {
      "text/html": [
       "<div>\n",
       "<style scoped>\n",
       "    .dataframe tbody tr th:only-of-type {\n",
       "        vertical-align: middle;\n",
       "    }\n",
       "\n",
       "    .dataframe tbody tr th {\n",
       "        vertical-align: top;\n",
       "    }\n",
       "\n",
       "    .dataframe thead th {\n",
       "        text-align: right;\n",
       "    }\n",
       "</style>\n",
       "<table border=\"1\" class=\"dataframe\">\n",
       "  <thead>\n",
       "    <tr style=\"text-align: right;\">\n",
       "      <th></th>\n",
       "      <th>salary</th>\n",
       "      <th>sheltered</th>\n",
       "      <th>unsheltered</th>\n",
       "      <th>total</th>\n",
       "      <th>rolling_60</th>\n",
       "    </tr>\n",
       "    <tr>\n",
       "      <th>period_end</th>\n",
       "      <th></th>\n",
       "      <th></th>\n",
       "      <th></th>\n",
       "      <th></th>\n",
       "      <th></th>\n",
       "    </tr>\n",
       "  </thead>\n",
       "  <tbody>\n",
       "    <tr>\n",
       "      <th>8/31/1988</th>\n",
       "      <td>317.29</td>\n",
       "      <td>0.0</td>\n",
       "      <td>28.55</td>\n",
       "      <td>28.55</td>\n",
       "      <td>NaN</td>\n",
       "    </tr>\n",
       "    <tr>\n",
       "      <th>9/30/1988</th>\n",
       "      <td>908.81</td>\n",
       "      <td>0.0</td>\n",
       "      <td>81.80</td>\n",
       "      <td>81.80</td>\n",
       "      <td>NaN</td>\n",
       "    </tr>\n",
       "    <tr>\n",
       "      <th>10/31/1988</th>\n",
       "      <td>783.66</td>\n",
       "      <td>0.0</td>\n",
       "      <td>70.54</td>\n",
       "      <td>70.54</td>\n",
       "      <td>NaN</td>\n",
       "    </tr>\n",
       "    <tr>\n",
       "      <th>11/30/1988</th>\n",
       "      <td>783.66</td>\n",
       "      <td>0.0</td>\n",
       "      <td>70.54</td>\n",
       "      <td>70.54</td>\n",
       "      <td>NaN</td>\n",
       "    </tr>\n",
       "    <tr>\n",
       "      <th>12/31/1988</th>\n",
       "      <td>971.74</td>\n",
       "      <td>0.0</td>\n",
       "      <td>87.47</td>\n",
       "      <td>87.47</td>\n",
       "      <td>NaN</td>\n",
       "    </tr>\n",
       "  </tbody>\n",
       "</table>\n",
       "</div>"
      ],
      "text/plain": [
       "            salary  sheltered  unsheltered  total  rolling_60\n",
       "period_end                                                   \n",
       "8/31/1988   317.29        0.0        28.55  28.55         NaN\n",
       "9/30/1988   908.81        0.0        81.80  81.80         NaN\n",
       "10/31/1988  783.66        0.0        70.54  70.54         NaN\n",
       "11/30/1988  783.66        0.0        70.54  70.54         NaN\n",
       "12/31/1988  971.74        0.0        87.47  87.47         NaN"
      ]
     },
     "execution_count": 37,
     "metadata": {},
     "output_type": "execute_result"
    }
   ],
   "source": [
    "df.head()"
   ]
  },
  {
   "cell_type": "code",
   "execution_count": 38,
   "metadata": {},
   "outputs": [],
   "source": [
    "#note that this did work on df = export_format but it did not work on df = export_format4 (because 'salary' column is not an int)\n",
    "df['rolling_60'] = df['salary'].rolling(60).mean()"
   ]
  },
  {
   "cell_type": "code",
   "execution_count": 39,
   "metadata": {},
   "outputs": [
    {
     "data": {
      "text/html": [
       "<div>\n",
       "<style scoped>\n",
       "    .dataframe tbody tr th:only-of-type {\n",
       "        vertical-align: middle;\n",
       "    }\n",
       "\n",
       "    .dataframe tbody tr th {\n",
       "        vertical-align: top;\n",
       "    }\n",
       "\n",
       "    .dataframe thead th {\n",
       "        text-align: right;\n",
       "    }\n",
       "</style>\n",
       "<table border=\"1\" class=\"dataframe\">\n",
       "  <thead>\n",
       "    <tr style=\"text-align: right;\">\n",
       "      <th></th>\n",
       "      <th>salary</th>\n",
       "      <th>sheltered</th>\n",
       "      <th>unsheltered</th>\n",
       "      <th>total</th>\n",
       "      <th>rolling_60</th>\n",
       "    </tr>\n",
       "    <tr>\n",
       "      <th>period_end</th>\n",
       "      <th></th>\n",
       "      <th></th>\n",
       "      <th></th>\n",
       "      <th></th>\n",
       "      <th></th>\n",
       "    </tr>\n",
       "  </thead>\n",
       "  <tbody>\n",
       "    <tr>\n",
       "      <th>3/31/2022</th>\n",
       "      <td>8549.38</td>\n",
       "      <td>598.45</td>\n",
       "      <td>0.0</td>\n",
       "      <td>598.45</td>\n",
       "      <td>7195.089833</td>\n",
       "    </tr>\n",
       "    <tr>\n",
       "      <th>4/30/2022</th>\n",
       "      <td>8652.05</td>\n",
       "      <td>605.64</td>\n",
       "      <td>0.0</td>\n",
       "      <td>605.64</td>\n",
       "      <td>7229.351333</td>\n",
       "    </tr>\n",
       "    <tr>\n",
       "      <th>5/31/2022</th>\n",
       "      <td>8898.70</td>\n",
       "      <td>622.90</td>\n",
       "      <td>0.0</td>\n",
       "      <td>622.90</td>\n",
       "      <td>7283.091833</td>\n",
       "    </tr>\n",
       "    <tr>\n",
       "      <th>6/30/2022</th>\n",
       "      <td>7237.25</td>\n",
       "      <td>506.60</td>\n",
       "      <td>0.0</td>\n",
       "      <td>506.60</td>\n",
       "      <td>7307.999667</td>\n",
       "    </tr>\n",
       "    <tr>\n",
       "      <th>7/31/2022</th>\n",
       "      <td>10013.83</td>\n",
       "      <td>700.96</td>\n",
       "      <td>0.0</td>\n",
       "      <td>700.96</td>\n",
       "      <td>7347.837000</td>\n",
       "    </tr>\n",
       "  </tbody>\n",
       "</table>\n",
       "</div>"
      ],
      "text/plain": [
       "              salary  sheltered  unsheltered   total   rolling_60\n",
       "period_end                                                       \n",
       "3/31/2022    8549.38     598.45          0.0  598.45  7195.089833\n",
       "4/30/2022    8652.05     605.64          0.0  605.64  7229.351333\n",
       "5/31/2022    8898.70     622.90          0.0  622.90  7283.091833\n",
       "6/30/2022    7237.25     506.60          0.0  506.60  7307.999667\n",
       "7/31/2022   10013.83     700.96          0.0  700.96  7347.837000"
      ]
     },
     "execution_count": 39,
     "metadata": {},
     "output_type": "execute_result"
    }
   ],
   "source": [
    "\n",
    "# the rolling_60 values did NOT match my expected results (see file samp_salary). expected results also listed 'export_key'\n",
    "df.tail()"
   ]
  },
  {
   "cell_type": "code",
   "execution_count": 40,
   "metadata": {},
   "outputs": [
    {
     "name": "stdout",
     "output_type": "stream",
     "text": [
      "<class 'pandas.core.series.Series'>\n",
      "Index: 179 entries, 8/31/1988 to 7/31/2022\n",
      "Series name: salary\n",
      "Non-Null Count  Dtype  \n",
      "--------------  -----  \n",
      "179 non-null    float64\n",
      "dtypes: float64(1)\n",
      "memory usage: 2.8+ KB\n"
     ]
    }
   ],
   "source": [
    "# this was executed on export_format\n",
    "df['salary'].info()"
   ]
  },
  {
   "cell_type": "code",
   "execution_count": 113,
   "metadata": {},
   "outputs": [
    {
     "ename": "SyntaxError",
     "evalue": "invalid syntax (2300947213.py, line 1)",
     "output_type": "error",
     "traceback": [
      "\u001b[1;36m  Cell \u001b[1;32mIn [113], line 1\u001b[1;36m\u001b[0m\n\u001b[1;33m    def salary_cap('rolling_60')\u001b[0m\n\u001b[1;37m                   ^\u001b[0m\n\u001b[1;31mSyntaxError\u001b[0m\u001b[1;31m:\u001b[0m invalid syntax\n"
     ]
    }
   ],
   "source": [
    "def salary_cap(rolling_60):\n",
    "    for i in len(rolling_60):\n",
    "        for num[i] in rolling_60:\n",
    "            # well............actually this isn't going to work at all BECAUSE\n",
    "            # i need this to happen within the .rolling() function, not AFTER\n",
    "            # if called on the rolling_60 column, then i'm just implementing the cap end result, not within the year to year"
   ]
  },
  {
   "cell_type": "code",
   "execution_count": 46,
   "metadata": {},
   "outputs": [],
   "source": [
    "#i wrote this function before i discovered pd.to_numeric\n",
    "#....it didn't work, could you tell me why?\n",
    "\n",
    "def int_convert(notnum):\n",
    "    convert = []\n",
    "    for num in notnum:\n",
    "        convert += int(num)\n",
    "    return convert"
   ]
  }
 ],
 "metadata": {
  "kernelspec": {
   "display_name": "Python 3.10.6 64-bit",
   "language": "python",
   "name": "python3"
  },
  "language_info": {
   "codemirror_mode": {
    "name": "ipython",
    "version": 3
   },
   "file_extension": ".py",
   "mimetype": "text/x-python",
   "name": "python",
   "nbconvert_exporter": "python",
   "pygments_lexer": "ipython3",
   "version": "3.10.6"
  },
  "orig_nbformat": 4,
  "vscode": {
   "interpreter": {
    "hash": "afb734500600fd355917ca529030176ea0ca205570884b88f2f6f7d791fd3fbe"
   }
  }
 },
 "nbformat": 4,
 "nbformat_minor": 2
}
